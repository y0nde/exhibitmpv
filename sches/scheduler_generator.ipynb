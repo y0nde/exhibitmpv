{
 "cells": [
  {
   "cell_type": "code",
   "execution_count": 47,
   "id": "364a9627-e659-4d6f-b0e9-457aad469408",
   "metadata": {
    "tags": []
   },
   "outputs": [],
   "source": [
    "import pandas as pd"
   ]
  },
  {
   "cell_type": "code",
   "execution_count": 55,
   "id": "13c764a7-5814-41b4-9fff-a6adcc2115e4",
   "metadata": {
    "tags": []
   },
   "outputs": [],
   "source": [
    "raw_sche = pd.read_csv(\"theaterCycle2023031502.xlsx - Sheet1.csv\", index_col= 0, header=None)"
   ]
  },
  {
   "cell_type": "code",
   "execution_count": 56,
   "id": "0ef41148-7e82-4713-a68f-3a686b7ac78c",
   "metadata": {
    "tags": []
   },
   "outputs": [],
   "source": [
    "output_sche = raw_sche.dropna(subset=1).fillna(\"somevideo\")"
   ]
  },
  {
   "cell_type": "code",
   "execution_count": 57,
   "id": "d7e337e9-63c2-4363-8c1c-268ec912ecba",
   "metadata": {
    "tags": []
   },
   "outputs": [],
   "source": [
    "output_sche[2] = list(map(lambda x: \"video/\" + x, output_sche[2]))"
   ]
  },
  {
   "cell_type": "code",
   "execution_count": 58,
   "id": "4adbbfcd-936b-4443-a123-551daa2fba14",
   "metadata": {
    "tags": []
   },
   "outputs": [],
   "source": [
    "output_sche[3] = 100"
   ]
  },
  {
   "cell_type": "code",
   "execution_count": 59,
   "id": "5962fe1b-64bf-45ce-99b4-fec31c2f5119",
   "metadata": {
    "tags": []
   },
   "outputs": [],
   "source": [
    "#output_sche.to_csv(\"schedule.txt\", index=0, header=0, sep=' ')"
   ]
  },
  {
   "cell_type": "code",
   "execution_count": 60,
   "id": "b66aad49-0907-493c-9181-17a1bc950acc",
   "metadata": {},
   "outputs": [
    {
     "data": {
      "text/html": [
       "<div>\n",
       "<style scoped>\n",
       "    .dataframe tbody tr th:only-of-type {\n",
       "        vertical-align: middle;\n",
       "    }\n",
       "\n",
       "    .dataframe tbody tr th {\n",
       "        vertical-align: top;\n",
       "    }\n",
       "\n",
       "    .dataframe thead th {\n",
       "        text-align: right;\n",
       "    }\n",
       "</style>\n",
       "<table border=\"1\" class=\"dataframe\">\n",
       "  <thead>\n",
       "    <tr style=\"text-align: right;\">\n",
       "      <th></th>\n",
       "      <th>1</th>\n",
       "      <th>2</th>\n",
       "      <th>3</th>\n",
       "    </tr>\n",
       "    <tr>\n",
       "      <th>0</th>\n",
       "      <th></th>\n",
       "      <th></th>\n",
       "      <th></th>\n",
       "    </tr>\n",
       "  </thead>\n",
       "  <tbody>\n",
       "    <tr>\n",
       "      <th>NaN</th>\n",
       "      <td>8:50:00</td>\n",
       "      <td>video/BLACK.mp4</td>\n",
       "      <td>100</td>\n",
       "    </tr>\n",
       "    <tr>\n",
       "      <th>NaN</th>\n",
       "      <td>9:00:00</td>\n",
       "      <td>video/Tokyo500yesrs</td>\n",
       "      <td>100</td>\n",
       "    </tr>\n",
       "    <tr>\n",
       "      <th>NaN</th>\n",
       "      <td>9:18:00</td>\n",
       "      <td>video/Care222</td>\n",
       "      <td>100</td>\n",
       "    </tr>\n",
       "    <tr>\n",
       "      <th>NaN</th>\n",
       "      <td>9:19:35</td>\n",
       "      <td>video/WBC</td>\n",
       "      <td>100</td>\n",
       "    </tr>\n",
       "    <tr>\n",
       "      <th>NaN</th>\n",
       "      <td>9:23:35</td>\n",
       "      <td>video/GlowOfTokyo</td>\n",
       "      <td>100</td>\n",
       "    </tr>\n",
       "    <tr>\n",
       "      <th>...</th>\n",
       "      <td>...</td>\n",
       "      <td>...</td>\n",
       "      <td>...</td>\n",
       "    </tr>\n",
       "    <tr>\n",
       "      <th>NaN</th>\n",
       "      <td>22:39:35</td>\n",
       "      <td>video/WBC</td>\n",
       "      <td>100</td>\n",
       "    </tr>\n",
       "    <tr>\n",
       "      <th>NaN</th>\n",
       "      <td>22:43:35</td>\n",
       "      <td>video/GlowOfTokyo</td>\n",
       "      <td>100</td>\n",
       "    </tr>\n",
       "    <tr>\n",
       "      <th>NaN</th>\n",
       "      <td>22:48:50</td>\n",
       "      <td>video/somevideo</td>\n",
       "      <td>100</td>\n",
       "    </tr>\n",
       "    <tr>\n",
       "      <th>NaN</th>\n",
       "      <td>22:52:00</td>\n",
       "      <td>video/BS4_20230315.mp4</td>\n",
       "      <td>100</td>\n",
       "    </tr>\n",
       "    <tr>\n",
       "      <th>NaN</th>\n",
       "      <td>23:00:00</td>\n",
       "      <td>video/BLACK.mp4</td>\n",
       "      <td>100</td>\n",
       "    </tr>\n",
       "  </tbody>\n",
       "</table>\n",
       "<p>128 rows × 3 columns</p>\n",
       "</div>"
      ],
      "text/plain": [
       "            1                       2    3\n",
       "0                                         \n",
       "NaN   8:50:00         video/BLACK.mp4  100\n",
       "NaN   9:00:00     video/Tokyo500yesrs  100\n",
       "NaN   9:18:00           video/Care222  100\n",
       "NaN   9:19:35               video/WBC  100\n",
       "NaN   9:23:35       video/GlowOfTokyo  100\n",
       "..        ...                     ...  ...\n",
       "NaN  22:39:35               video/WBC  100\n",
       "NaN  22:43:35       video/GlowOfTokyo  100\n",
       "NaN  22:48:50         video/somevideo  100\n",
       "NaN  22:52:00  video/BS4_20230315.mp4  100\n",
       "NaN  23:00:00         video/BLACK.mp4  100\n",
       "\n",
       "[128 rows x 3 columns]"
      ]
     },
     "execution_count": 60,
     "metadata": {},
     "output_type": "execute_result"
    }
   ],
   "source": [
    "output_sche"
   ]
  },
  {
   "cell_type": "code",
   "execution_count": null,
   "id": "23339c95-b79c-4745-8a00-39dcc2f51bb2",
   "metadata": {},
   "outputs": [],
   "source": []
  }
 ],
 "metadata": {
  "kernelspec": {
   "display_name": "Python 3 (ipykernel)",
   "language": "python",
   "name": "python3"
  },
  "language_info": {
   "codemirror_mode": {
    "name": "ipython",
    "version": 3
   },
   "file_extension": ".py",
   "mimetype": "text/x-python",
   "name": "python",
   "nbconvert_exporter": "python",
   "pygments_lexer": "ipython3",
   "version": "3.11.2"
  }
 },
 "nbformat": 4,
 "nbformat_minor": 5
}
