{
 "cells": [
  {
   "cell_type": "code",
   "execution_count": 1,
   "id": "364a9627-e659-4d6f-b0e9-457aad469408",
   "metadata": {
    "tags": []
   },
   "outputs": [],
   "source": [
    "import pandas as pd"
   ]
  },
  {
   "cell_type": "code",
   "execution_count": 4,
   "id": "13c764a7-5814-41b4-9fff-a6adcc2115e4",
   "metadata": {
    "tags": []
   },
   "outputs": [],
   "source": [
    "raw_sche = pd.read_csv(\"theaterCycle20230315.csv\", header=None)"
   ]
  },
  {
   "cell_type": "code",
   "execution_count": 8,
   "id": "acb104a5-c1c1-4161-ba01-f6bf56e4e0a6",
   "metadata": {
    "tags": []
   },
   "outputs": [],
   "source": [
    "raw_sche = raw_sche.dropna(how='any')"
   ]
  },
  {
   "cell_type": "code",
   "execution_count": 12,
   "id": "5962fe1b-64bf-45ce-99b4-fec31c2f5119",
   "metadata": {
    "tags": []
   },
   "outputs": [],
   "source": [
    "raw_sche.to_csv(\"schedule.txt\", index=0, header=0, sep=' ')"
   ]
  },
  {
   "cell_type": "code",
   "execution_count": null,
   "id": "b66aad49-0907-493c-9181-17a1bc950acc",
   "metadata": {},
   "outputs": [],
   "source": []
  }
 ],
 "metadata": {
  "kernelspec": {
   "display_name": "Python 3 (ipykernel)",
   "language": "python",
   "name": "python3"
  },
  "language_info": {
   "codemirror_mode": {
    "name": "ipython",
    "version": 3
   },
   "file_extension": ".py",
   "mimetype": "text/x-python",
   "name": "python",
   "nbconvert_exporter": "python",
   "pygments_lexer": "ipython3",
   "version": "3.11.2"
  }
 },
 "nbformat": 4,
 "nbformat_minor": 5
}
